


# Import required libraries
import pandas as pd
import numpy as np
import yfinance as yf
from datetime import datetime, timedelta
import matplotlib.pyplot as plt
from scipy.optimize import minimize


# Core functions
def get_historical_prices(tickers, start_date, end_date):
    data = yf.download(tickers, start=start_date, end=end_date)['Adj Close']
    return pd.DataFrame(data)

def get_daily_returns(price):
    returns = price.pct_change()
    return returns

def get_portfolio_returns(weights, daily_returns):   
    portfolio_returns = daily_returns.dot(weights)
    return portfolio_returns


# Test data setup
# Sample portfolio for testing
tickers = ['AAPL', 'MSFT', 'GOOGL']  # Example tickers
weights = [0.4, 0.3, 0.3]  # Example weights

# Date range
end_date = datetime.today().date()
start_date = end_date - timedelta(days=365)

# Get historical data
prices = get_historical_prices(tickers, start_date, end_date)
print("Historical Prices:")
display(prices.head())

# Plot historical prices
plt.figure(figsize=(12, 6))
for column in prices.columns:
    plt.plot(prices.index, prices[column], label=column)
plt.xlabel('Date')
plt.ylabel('Price')
plt.title('Historical Prices')
plt.legend()
plt.show()


# Calculate and display daily returns
daily_returns = get_daily_returns(prices)
print("Daily Returns:")
display(daily_returns.head())

# Plot daily returns
plt.figure(figsize=(12, 6))
for column in daily_returns.columns:
    plt.plot(daily_returns.index, daily_returns[column], label=column)
plt.xlabel('Date')
plt.ylabel('Daily Returns')
plt.title('Daily Returns Over Time')
plt.legend()
plt.show()


# Risk Analysis Functions
def calculate_risk_parity_weights(returns):
    asset_volatility = returns.std(axis=0)
    asset_risk_contribution = asset_volatility / asset_volatility.sum()
    target_risk_allocation = 1 / len(asset_volatility)
    weights = target_risk_allocation / asset_risk_contribution
    weights /= weights.sum()
    return weights

def calculate_beta(daily_returns, benchmark_returns):
    beta_list = {}
    for ticker in daily_returns:
        covariance = daily_returns[ticker].cov(benchmark_returns)
        variance = benchmark_returns.var()
        beta = covariance / variance
        beta_list[ticker] = beta
    return pd.Series(beta_list, name='Beta')

# Calculate and display risk metrics
risk_parity_weights = calculate_risk_parity_weights(daily_returns)
print("\nRisk Parity Weights:")
display(risk_parity_weights)

# Get benchmark (S&P 500) returns
benchmark_ticker = "^GSPC"
benchmark_prices = get_historical_prices(benchmark_ticker, start_date, end_date)
benchmark_returns = get_daily_returns(benchmark_prices).iloc[:, 0]

betas = calculate_beta(daily_returns, benchmark_returns)
print("\nBeta Coefficients:")
display(betas)










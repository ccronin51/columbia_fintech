#import relevant libraries
import pandas as pd
import streamlit as st
import numpy as np
import yfinance as yf
import hvplot.pandas 
from datetime import datetime, timedelta
import seaborn as sns


pip install yfinance


# Set Initial Params
initial_investment = 10000
weights = [.4, .2, .4, 0]
tickers = ['TSLA', 'NVDA', 'AMZN','^GSPC']
end_date = datetime.today().date()
start_date = end_date - timedelta(days=365)


# Define Return Functions


# Data Retrieval from Yahoo Finance
def get_historical_prices(tickers, start_date, end_date):
    data = yf.download(tickers, start=start_date, end=end_date)['Close']
    return pd.DataFrame(data)

# Use the `pct_change` function to calculate daily returns of closing prices for each column
def get_daily_returns(price):
    returns = price.pct_change()
    return returns

# Use the `dot` function to multiply the weights by each stock's daily return to get the portfolio daily return
def get_portfolio_returns(weights ,daily_returns):
    portfolio_returns = daily_returns.dot(weights)
    return portfolio_returns


# Set Return Functions to Variabls


prices = get_historical_prices(tickers, start_date, end_date)
prices


daily_returns = get_daily_returns(prices).dropna()
daily_returns


port_daily_return = get_portfolio_returns(weights, daily_returns)
port_daily_return


# Visualize Portfolio Returns (Extra)


unoptimized_cumulative_returns = (1 + port_daily_return).cumprod()
unoptimized_cumulative_profits = (initial_investment * unoptimized_cumulative_returns)
unoptimized_cumulative_profits.plot(figsize=(20,10))


# Reorder daily_returns so SP500 Benchmark is first col


# Calculate betas of each ticker to SP500


# Calculate Beta coefficient for each ticker to benchmark, SP500
def calculate_beta(daily_returns, benchmark_returns):

    beta_list = {}

    # Iterate over each asset in the portfolio
    for ticker in daily_returns:
        # Calculate covariance between asset returns and benchmark returns
        covariance = daily_returns[ticker].cov(benchmark_returns)

        # Calculate variance of benchmark returns
        variance = benchmark_returns.var()

        # Calculate beta coefficient
        beta = covariance / variance

        # Store beta value in the dictionary
        beta_list[ticker] = beta

    # Create a Series from the dictionary
    beta_series = pd.Series(beta_list, name='Beta')

    return beta_series



betas = calculate_beta(daily_returns[0],daily_returns[1:])
betas


# Calculate New Portfolio Weights Based on Stock Betas





def calc_beta_weights(df):
    beta_weights = {}
    target_market_beta = 1
    number_of_stocks = len(df)
    sum_of_all_stock_betas = df.sum()
    
    for index, row in df.iterrows():
        numerator = target_market_beta - row
        denominator = sum_of_all_stock_betas - number_of_stocks
        stock_weight = numerator / denominator
        beta_weights[index] = stock_weight
        
    beta_weights_df = pd.DataFrame.from_dict(beta_weights, orient='index')
    beta_weights_df_normalized = beta_weights_df['Beta'] / beta_weights_df['Beta'].sum()
    
    return beta_weights_df_normalized


calc_beta_weights(betas)




#import relevant libraries
import pandas as pd
import streamlit as st
import numpy as np
import yfinance as yf
import hvplot.pandas 
from datetime import datetime, timedelta
import seaborn as sns


# Set Initial Params
initial_investment = 10000
weights = [.4, .2, .4, 0]
tickers = ['TSLA', 'NVDA', 'AMZN','^GSPC']
end_date = datetime.today().date()
start_date = end_date - timedelta(days=365)


# Define Return Functions


def get_historical_prices(tickers, start_date, end_date):
    data = yf.download(tickers, start=start_date, end=end_date)['Adj Close']
    return data


def get_daily_returns(price):
    returns = price.pct_change()
    return returns


def get_portfolio_returns(weights,daily_returns):   
    portfolio_returns = daily_returns.dot(weights)
    return portfolio_returns


# Set Return Functions to Variabls


prices = get_historical_prices(tickers, start_date, end_date)
prices


daily_returns = get_daily_returns(prices).dropna()
daily_returns


port_daily_return = get_portfolio_returns(weights, daily_returns)
port_daily_return


# Visualize Portfolio Returns (Extra)


unoptimized_cumulative_returns = (1 + port_daily_return).cumprod()
unoptimized_cumulative_profits = (initial_investment * unoptimized_cumulative_returns)
unoptimized_cumulative_profits.plot(figsize=(20,10))


# Reorder daily_returns so SP500 Benchmark is first col


daily_returns = daily_returns[['^GSPC','AMZN','NVDA','TSLA']]
daily_returns


# Calculate betas of each ticker to SP500


def calc_beta(daily_returns):
    # benchmark = daily_returns['^GSPC']
    beta_list = {}
    portfolio = daily_returns.drop('^GSPC', axis=1)
    for ticker in portfolio:
        covariance = daily_returns[ticker].cov(daily_returns['^GSPC'])
        variance = daily_returns['^GSPC'].var()
        beta = covariance / variance
        beta_list[ticker] = beta
    beta_df = pd.DataFrame.from_dict(beta_list, orient='index')
    beta_df.columns = ['Beta']
    return beta_df


betas = calc_beta(daily_returns)
betas


# Calculate New Portfolio Weights Based on Stock Betas





def calc_beta_weights(df):
    beta_weights = {}
    target_market_beta = 1
    number_of_stocks = len(df)
    sum_of_all_stock_betas = df.sum()
    
    for index, row in df.iterrows():
        numerator = target_market_beta - row
        denominator = sum_of_all_stock_betas - number_of_stocks
        stock_weight = numerator / denominator
        beta_weights[index] = stock_weight
        
    beta_weights_df = pd.DataFrame.from_dict(beta_weights, orient='index')
    beta_weights_df_normalized = beta_weights_df['Beta'] / beta_weights_df['Beta'].sum()
    
    return beta_weights_df_normalized


calc_beta_weights(betas)



